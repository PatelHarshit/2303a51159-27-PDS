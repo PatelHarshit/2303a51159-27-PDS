{
  "nbformat": 4,
  "nbformat_minor": 0,
  "metadata": {
    "colab": {
      "provenance": [],
      "authorship_tag": "ABX9TyO0LApM/2JAIFfQuDyvomUm",
      "include_colab_link": true
    },
    "kernelspec": {
      "name": "python3",
      "display_name": "Python 3"
    },
    "language_info": {
      "name": "python"
    }
  },
  "cells": [
    {
      "cell_type": "markdown",
      "metadata": {
        "id": "view-in-github",
        "colab_type": "text"
      },
      "source": [
        "<a href=\"https://colab.research.google.com/github/PatelHarshit/2303a51159-27-PDS/blob/main/lab_6.ipynb\" target=\"_parent\"><img src=\"https://colab.research.google.com/assets/colab-badge.svg\" alt=\"Open In Colab\"/></a>"
      ]
    },
    {
      "cell_type": "code",
      "execution_count": 1,
      "metadata": {
        "colab": {
          "base_uri": "https://localhost:8080/"
        },
        "id": "AwaN6jMOIVLV",
        "outputId": "c29cbc74-2a0a-4148-896b-7061713a250d"
      },
      "outputs": [
        {
          "output_type": "stream",
          "name": "stdout",
          "text": [
            "🔹 Dataset BEFORE Cleaning:\n",
            "   Patient_ID  Age\n",
            "0         101   25\n",
            "1         102   45\n",
            "2         103   -5\n",
            "3         104  130\n",
            "4         105   67\n",
            "5         106   89\n",
            "6         107    0\n",
            "7         108  150\n",
            "\n",
            "⚠️ Detected Outliers:\n",
            "   Patient_ID  Age\n",
            "2         103   -5\n",
            "3         104  130\n",
            "7         108  150\n",
            "\n",
            "✅ Dataset AFTER Cleaning:\n",
            "   Patient_ID  Age\n",
            "0         101   25\n",
            "1         102   45\n",
            "4         105   67\n",
            "5         106   89\n",
            "6         107    0\n"
          ]
        }
      ],
      "source": [
        "import pandas as pd\n",
        "\n",
        "# Step 1: Create a sample hospital dataset with patient ages\n",
        "data = {\n",
        "    \"Patient_ID\": [101, 102, 103, 104, 105, 106, 107, 108],\n",
        "    \"Age\": [25, 45, -5, 130, 67, 89, 0, 150]  # includes invalid ages\n",
        "}\n",
        "\n",
        "df = pd.DataFrame(data)\n",
        "\n",
        "print(\"🔹 Dataset BEFORE Cleaning:\")\n",
        "print(df)\n",
        "\n",
        "# Step 2: Detect Outliers (invalid ages: <0 or >120)\n",
        "outliers = df[(df[\"Age\"] < 0) | (df[\"Age\"] > 120)]\n",
        "print(\"\\n⚠️ Detected Outliers:\")\n",
        "print(outliers)\n",
        "\n",
        "# Step 3: Remove Outliers\n",
        "df_cleaned = df[(df[\"Age\"] >= 0) & (df[\"Age\"] <= 120)]\n",
        "\n",
        "print(\"\\n✅ Dataset AFTER Cleaning:\")\n",
        "print(df_cleaned)"
      ]
    },
    {
      "cell_type": "code",
      "source": [
        "import pandas as pd\n",
        "from sklearn.preprocessing import MinMaxScaler, StandardScaler\n",
        "\n",
        "# Step 1: Create a sample banking dataset with customer incomes\n",
        "data = {\n",
        "    \"Customer_ID\": [201, 202, 203, 204, 205, 206],\n",
        "    \"Income\": [25000, 40000, 60000, 80000, 120000, 200000]\n",
        "}\n",
        "\n",
        "df = pd.DataFrame(data)\n",
        "\n",
        "print(\"🔹 Original Dataset:\")\n",
        "print(df)\n",
        "\n",
        "# Step 2: Apply Min-Max Normalization (scales values between 0 and 1)\n",
        "min_max_scaler = MinMaxScaler()\n",
        "df[\"Income_MinMax\"] = min_max_scaler.fit_transform(df[[\"Income\"]])\n",
        "\n",
        "# Step 3: Apply Standardization (Z-score scaling: mean=0, std=1)\n",
        "standard_scaler = StandardScaler()\n",
        "df[\"Income_Standardized\"] = standard_scaler.fit_transform(df[[\"Income\"]])\n",
        "\n",
        "print(\"\\n✅ Dataset AFTER Scaling:\")\n",
        "print(df)"
      ],
      "metadata": {
        "colab": {
          "base_uri": "https://localhost:8080/"
        },
        "id": "yUixi1Y7IZ4h",
        "outputId": "fac28710-6ecf-45a8-fcb6-30764aed3078"
      },
      "execution_count": 2,
      "outputs": [
        {
          "output_type": "stream",
          "name": "stdout",
          "text": [
            "🔹 Original Dataset:\n",
            "   Customer_ID  Income\n",
            "0          201   25000\n",
            "1          202   40000\n",
            "2          203   60000\n",
            "3          204   80000\n",
            "4          205  120000\n",
            "5          206  200000\n",
            "\n",
            "✅ Dataset AFTER Scaling:\n",
            "   Customer_ID  Income  Income_MinMax  Income_Standardized\n",
            "0          201   25000       0.000000            -1.064392\n",
            "1          202   40000       0.085714            -0.808938\n",
            "2          203   60000       0.200000            -0.468333\n",
            "3          204   80000       0.314286            -0.127727\n",
            "4          205  120000       0.542857             0.553484\n",
            "5          206  200000       1.000000             1.915906\n"
          ]
        }
      ]
    }
  ]
}